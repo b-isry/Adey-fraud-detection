{
 "cells": [
  {
   "cell_type": "code",
   "execution_count": 1,
   "id": "b44532ad",
   "metadata": {},
   "outputs": [
    {
     "name": "stderr",
     "output_type": "stream",
     "text": [
      "c:\\Users\\Bisrat\\Desktop\\KAIM\\Adey_fraud_detection\\venv\\Lib\\site-packages\\tqdm\\auto.py:21: TqdmWarning: IProgress not found. Please update jupyter and ipywidgets. See https://ipywidgets.readthedocs.io/en/stable/user_install.html\n",
      "  from .autonotebook import tqdm as notebook_tqdm\n"
     ]
    }
   ],
   "source": [
    "import pandas as pd\n",
    "import numpy as np\n",
    "import sys\n",
    "import os\n",
    "import joblib \n",
    "import shap\n",
    "from sklearn.pipeline import Pipeline\n",
    "from imblearn.pipeline import Pipeline as ImbPipeline"
   ]
  },
  {
   "cell_type": "code",
   "execution_count": 2,
   "id": "2fcc0a46",
   "metadata": {},
   "outputs": [],
   "source": [
    "sys.path.append(os.path.abspath('../scripts'))\n",
    "\n",
    "import preprocess as preprocessing\n",
    "import feature_engineering as engineering\n",
    "import model_training as train\n",
    "import visualize "
   ]
  },
  {
   "cell_type": "code",
   "execution_count": 3,
   "id": "9475f5f8",
   "metadata": {},
   "outputs": [],
   "source": [
    "# --- Data Preparation ---\n",
    "credit_df = preprocessing.load_data('../data/creditcard.csv')\n",
    "credit_df = preprocessing.clean_credit_card_data(credit_df)\n",
    "X_credit = credit_df.drop('Class', axis=1)\n",
    "y_credit = credit_df['Class']\n",
    "X_credit_train, X_credit_test, y_credit_train, y_credit_test = train.split_data(X_credit, y_credit)"
   ]
  },
  {
   "cell_type": "code",
   "execution_count": 4,
   "id": "8e9007d7",
   "metadata": {},
   "outputs": [],
   "source": [
    "# Apply scaling and SMOTE as in Task 2\n",
    "scaler = preprocessing.StandardScaler()\n",
    "X_credit_train[['Time', 'Amount']] = scaler.fit_transform(X_credit_train[['Time', 'Amount']])\n",
    "X_credit_test[['Time', 'Amount']] = scaler.transform(X_credit_test[['Time', 'Amount']])\n",
    "X_credit_train_res, y_credit_train_res = preprocessing.handle_imbalance(X_credit_train, y_credit_train)"
   ]
  },
  {
   "cell_type": "code",
   "execution_count": 5,
   "id": "c3785cd8",
   "metadata": {},
   "outputs": [
    {
     "name": "stdout",
     "output_type": "stream",
     "text": [
      "Credit Card Fraud Model (Random Forest) is ready.\n"
     ]
    }
   ],
   "source": [
    "# --- Retrain the Best Model (Random Forest) ---\n",
    "rf_credit_model = train.train_random_forest(X_credit_train_res, y_credit_train_res)\n",
    "print(\"Credit Card Fraud Model (Random Forest) is ready.\")"
   ]
  },
  {
   "cell_type": "code",
   "execution_count": 8,
   "id": "5a0a9ae0",
   "metadata": {},
   "outputs": [
    {
     "name": "stdout",
     "output_type": "stream",
     "text": [
      "\n",
      "--- SHAP Summary Plot for Credit Card Fraud Model ---\n",
      "Calculating SHAP values for 2000 samples. This may take a moment...\n"
     ]
    },
    {
     "ename": "TypeError",
     "evalue": "TreeExplainer.__init__() got an unexpected keyword argument 'check_additivity'",
     "output_type": "error",
     "traceback": [
      "\u001b[31m---------------------------------------------------------------------------\u001b[39m",
      "\u001b[31mTypeError\u001b[39m                                 Traceback (most recent call last)",
      "\u001b[36mCell\u001b[39m\u001b[36m \u001b[39m\u001b[32mIn[8]\u001b[39m\u001b[32m, line 9\u001b[39m\n\u001b[32m      6\u001b[39m \u001b[38;5;28;01melse\u001b[39;00m:\n\u001b[32m      7\u001b[39m     X_credit_test_sample = X_credit_test\n\u001b[32m----> \u001b[39m\u001b[32m9\u001b[39m credit_shap_values = \u001b[43mvisualize\u001b[49m\u001b[43m.\u001b[49m\u001b[43mgenerate_summary_plot\u001b[49m\u001b[43m(\u001b[49m\n\u001b[32m     10\u001b[39m \u001b[43m    \u001b[49m\u001b[43mrf_credit_model\u001b[49m\u001b[43m,\u001b[49m\n\u001b[32m     11\u001b[39m \u001b[43m    \u001b[49m\u001b[43mX_credit_test_sample\u001b[49m\u001b[43m,\u001b[49m\n\u001b[32m     12\u001b[39m \u001b[43m    \u001b[49m\u001b[43mfeature_names\u001b[49m\u001b[43m=\u001b[49m\u001b[43mX_credit_test_sample\u001b[49m\u001b[43m.\u001b[49m\u001b[43mcolumns\u001b[49m\u001b[43m,\u001b[49m\n\u001b[32m     13\u001b[39m \u001b[43m    \u001b[49m\u001b[43mplot_title\u001b[49m\u001b[43m=\u001b[49m\u001b[33;43m\"\u001b[39;49m\u001b[33;43mGlobal Feature Importance for Credit Card Fraud (on 2000 Samples)\u001b[39;49m\u001b[33;43m\"\u001b[39;49m\u001b[43m,\u001b[49m\n\u001b[32m     14\u001b[39m \u001b[43m    \u001b[49m\u001b[43mcheck_additivity\u001b[49m\u001b[43m=\u001b[49m\u001b[38;5;28;43;01mFalse\u001b[39;49;00m\u001b[43m \u001b[49m\u001b[38;5;66;43;03m# Setting to False is recommended for speed\u001b[39;49;00m\n\u001b[32m     15\u001b[39m \u001b[43m)\u001b[49m\n",
      "\u001b[36mFile \u001b[39m\u001b[32mc:\\Users\\Bisrat\\Desktop\\KAIM\\Adey_fraud_detection\\scripts\\visualize.py:11\u001b[39m, in \u001b[36mgenerate_summary_plot\u001b[39m\u001b[34m(model, features, feature_names, plot_title, check_additivity)\u001b[39m\n\u001b[32m      8\u001b[39m \u001b[38;5;28mprint\u001b[39m(\u001b[33mf\u001b[39m\u001b[33m\"\u001b[39m\u001b[33mCalculating SHAP values for \u001b[39m\u001b[38;5;132;01m{\u001b[39;00m\u001b[38;5;28mlen\u001b[39m(features)\u001b[38;5;132;01m}\u001b[39;00m\u001b[33m samples. This may take a moment...\u001b[39m\u001b[33m\"\u001b[39m)\n\u001b[32m      9\u001b[39m \u001b[38;5;66;03m# Use TreeExplainer for tree-based models like Random Forest\u001b[39;00m\n\u001b[32m     10\u001b[39m \u001b[38;5;66;03m# Disabling the additivity check can speed up computation, but skips a validation step.\u001b[39;00m\n\u001b[32m---> \u001b[39m\u001b[32m11\u001b[39m explainer = \u001b[43mshap\u001b[49m\u001b[43m.\u001b[49m\u001b[43mTreeExplainer\u001b[49m\u001b[43m(\u001b[49m\u001b[43mmodel\u001b[49m\u001b[43m,\u001b[49m\u001b[43m \u001b[49m\u001b[43mcheck_additivity\u001b[49m\u001b[43m=\u001b[49m\u001b[43mcheck_additivity\u001b[49m\u001b[43m)\u001b[49m\n\u001b[32m     12\u001b[39m shap_values = explainer.shap_values(features)\n\u001b[32m     14\u001b[39m \u001b[38;5;28mprint\u001b[39m(\u001b[33m\"\u001b[39m\u001b[33mSHAP values calculated. Generating plot...\u001b[39m\u001b[33m\"\u001b[39m)\n",
      "\u001b[31mTypeError\u001b[39m: TreeExplainer.__init__() got an unexpected keyword argument 'check_additivity'"
     ]
    }
   ],
   "source": [
    "print(\"\\n--- SHAP Summary Plot for Credit Card Fraud Model ---\")\n",
    "\n",
    "# Use the sampling strategy to ensure speed\n",
    "if len(X_credit_test) > 2000:\n",
    "    X_credit_test_sample = X_credit_test.sample(n=2000, random_state=42)\n",
    "else:\n",
    "    X_credit_test_sample = X_credit_test\n",
    "    \n",
    "credit_shap_values = visualize.generate_summary_plot(\n",
    "    rf_credit_model,\n",
    "    X_credit_test_sample,\n",
    "    feature_names=X_credit_test_sample.columns,\n",
    "    plot_title=\"Global Feature Importance for Credit Card Fraud (on 2000 Samples)\",\n",
    "    check_additivity=False # Setting to False is recommended for speed\n",
    ")\n",
    "\n"
   ]
  },
  {
   "cell_type": "code",
   "execution_count": null,
   "id": "96299717",
   "metadata": {},
   "outputs": [],
   "source": [
    "# --- Interpretation of the Summary Plot ---\n",
    "print(\"\"\"\n",
    "**Interpretation of the Credit Card Fraud Summary Plot:**\n",
    "\n",
    "The SHAP summary plot reveals the most significant features driving the model's predictions for credit card fraud.\n",
    "- **Top Features:** Features like `V14`, `V12`, `V10`, and `V17` are the most impactful. This is expected, as these PCA-transformed features are designed to capture underlying transactional patterns.\n",
    "- **Impact Direction:**\n",
    "  - For `V14`, `V12`, and `V10`, lower values (indicated by the blue color) have a high positive SHAP value, meaning they strongly push the model's prediction towards fraud (Class 1).\n",
    "  - For `V17`, higher values (red color) are associated with a higher risk of fraud.\n",
    "- **Business Insight:** This tells us that specific, anonymized patterns in the transaction data are extremely predictive of fraud. While we don't know the exact nature of these 'V' features, we can confirm that the model has learned to identify high-risk anomalies based on them.\n",
    "\"\"\")\n"
   ]
  },
  {
   "cell_type": "code",
   "execution_count": null,
   "id": "dceeecc4",
   "metadata": {},
   "outputs": [],
   "source": [
    "# --- Local Prediction Explanation (Force Plot) ---\n",
    "print(\"\\n--- SHAP Force Plot for a Single Fraudulent Transaction ---\")\n",
    "# Find an actual fraudulent transaction in the test set\n",
    "fraudulent_indices = y_credit_test[y_credit_test == 1].index\n",
    "if not fraudulent_indices.empty:\n",
    "    visualize.generate_force_plot(\n",
    "        rf_credit_model,\n",
    "        X_credit_test,\n",
    "        instance_index=fraudulent_indices[0],\n",
    "        plot_title=f\"Force Plot for a True Positive Fraud Case (Index: {fraudulent_indices[0]})\"\n",
    "    )"
   ]
  },
  {
   "cell_type": "code",
   "execution_count": null,
   "id": "4043fb9e",
   "metadata": {},
   "outputs": [],
   "source": [
    "# --- Interpretation of the Force Plot ---\n",
    "print(\"\"\"\n",
    "**Interpretation of the Force Plot:**\n",
    "The force plot above breaks down a single prediction.\n",
    "- **Base Value:** This is the average prediction over the entire dataset.\n",
    "- **Driving Features:** Features shown in **red** (like `V14`, `V10`) are pushing the prediction higher (towards fraud). Features in **blue** are pushing it lower.\n",
    "- **Final Prediction:** The combination of these forces results in the final prediction score. For this fraudulent case, we can see that the low values of several 'V' features were the primary contributors to the model flagging it as fraud, overcoming the features that suggested it was a legitimate transaction.\n",
    "\"\"\")"
   ]
  },
  {
   "cell_type": "code",
   "execution_count": null,
   "id": "7c2c7d6a",
   "metadata": {},
   "outputs": [],
   "source": [
    "# --- Data Preparation ---\n",
    "fraud_df = preprocessing.load_data('../data/Fraud_Data.csv')\n",
    "fraud_df = preprocessing.clean_fraud_data(fraud_df)\n",
    "fraud_df = engineering.create_time_features(fraud_df)\n",
    "fraud_df = engineering.time_since_signup(fraud_df)\n",
    "fraud_df = fraud_df.drop(['user_id', 'signup_time', 'purchase_time', 'device_id', 'ip_address'], axis=1)\n",
    "X_fraud = fraud_df.drop('class', axis=1)\n",
    "y_fraud = fraud_df['class']"
   ]
  },
  {
   "cell_type": "code",
   "execution_count": null,
   "id": "418bfa99",
   "metadata": {},
   "outputs": [],
   "source": [
    "categorical_features = ['source', 'browser', 'sex']\n",
    "numerical_features = ['purchase_value', 'age', 'hour_of_day', 'day_of_week', 'time_since_signup']\n",
    "X_fraud_train, X_fraud_test, y_fraud_train, y_fraud_test = train.split_data(X_fraud, y_fraud)"
   ]
  },
  {
   "cell_type": "code",
   "execution_count": null,
   "id": "dc541e83",
   "metadata": {},
   "outputs": [],
   "source": [
    "# --- Retrain the Best Model (Random Forest Pipeline) ---\n",
    "rf_fraud_pipeline = ImbPipeline(steps=[\n",
    "    ('preprocessor', preprocessing.ColumnTransformer(transformers=[\n",
    "        ('num', preprocessing.StandardScaler(), numerical_features),\n",
    "        ('cat', preprocessing.OneHotEncoder(handle_unknown='ignore', sparse_output=False), categorical_features)])),\n",
    "    ('classifier', train.RandomForestClassifier(random_state=42, n_estimators=100))\n",
    "])\n",
    "rf_fraud_pipeline.fit(X_fraud_train, y_fraud_train)\n",
    "print(\"\\nE-commerce Fraud Model (Random Forest Pipeline) is ready.\")"
   ]
  },
  {
   "cell_type": "code",
   "execution_count": null,
   "id": "ce12337d",
   "metadata": {},
   "outputs": [],
   "source": [
    "# --- Global Feature Importance (Summary Plot) ---\n",
    "processed_feature_names = (numerical_features +\n",
    "                           rf_fraud_pipeline.named_steps['preprocessor']\n",
    "                           .named_transformers_['cat']\n",
    "                           .get_feature_names_out(categorical_features).tolist())\n"
   ]
  },
  {
   "cell_type": "code",
   "execution_count": null,
   "id": "d906c5cd",
   "metadata": {},
   "outputs": [],
   "source": [
    "# Transform the test data to get the features the model actually sees\n",
    "X_fraud_test_processed = pd.DataFrame(\n",
    "    rf_fraud_pipeline.named_steps['preprocessor'].transform(X_fraud_test),\n",
    "    columns=processed_feature_names,\n",
    "    index=X_fraud_test.index\n",
    ")"
   ]
  },
  {
   "cell_type": "code",
   "execution_count": null,
   "id": "37bd7837",
   "metadata": {},
   "outputs": [],
   "source": [
    "print(\"\\n--- SHAP Summary Plot for E-commerce Fraud Model ---\")\n",
    "visualize.generate_summary_plot(\n",
    "    rf_fraud_pipeline.named_steps['classifier'],\n",
    "    X_fraud_test_processed,\n",
    "    feature_names=processed_feature_names,\n",
    "    plot_title=\"Global Feature Importance for E-commerce Fraud\"\n",
    ")"
   ]
  },
  {
   "cell_type": "code",
   "execution_count": null,
   "id": "3bb88d20",
   "metadata": {},
   "outputs": [],
   "source": [
    "# --- Interpretation of the Summary Plot ---\n",
    "print(\"\"\"\n",
    "**Interpretation of the E-commerce Fraud Summary Plot:**\n",
    "\n",
    "This plot shows what drives fraud detection in our e-commerce dataset.\n",
    "- **Top Feature:** The most dominant feature is `time_since_signup`. The plot clearly shows that low values (blue dots) have very high SHAP values, indicating that a **short duration between signing up and making a purchase is the single biggest predictor of fraud**.\n",
    "- **Other Key Features:**\n",
    "  - `purchase_value`: High purchase values are also associated with a higher risk of fraud.\n",
    "  - `age`: Younger users (lower age) seem to have a slightly higher fraud risk.\n",
    "- **Business Insight:** This provides a direct, actionable insight for Adey Innovations. Transactions from newly created accounts should be subject to higher scrutiny. The fraud team can now focus their efforts on this specific user segment, potentially implementing additional verification steps for them.\n",
    "\"\"\")"
   ]
  }
 ],
 "metadata": {
  "kernelspec": {
   "display_name": "venv",
   "language": "python",
   "name": "python3"
  },
  "language_info": {
   "codemirror_mode": {
    "name": "ipython",
    "version": 3
   },
   "file_extension": ".py",
   "mimetype": "text/x-python",
   "name": "python",
   "nbconvert_exporter": "python",
   "pygments_lexer": "ipython3",
   "version": "3.12.6"
  }
 },
 "nbformat": 4,
 "nbformat_minor": 5
}
