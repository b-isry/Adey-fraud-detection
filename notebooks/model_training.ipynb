{
 "cells": [
  {
   "cell_type": "code",
   "execution_count": 3,
   "id": "f3cea9ce",
   "metadata": {},
   "outputs": [],
   "source": [
    "import pandas as pd\n",
    "import numpy as np\n",
    "import sys\n",
    "import os\n",
    "from sklearn.preprocessing import StandardScaler, OneHotEncoder\n",
    "from sklearn.compose import ColumnTransformer\n",
    "from sklearn.pipeline import Pipeline\n",
    "from imblearn.over_sampling import SMOTE\n",
    "from imblearn.pipeline import Pipeline as ImbPipeline"
   ]
  },
  {
   "cell_type": "code",
   "execution_count": 4,
   "id": "965d576c",
   "metadata": {},
   "outputs": [
    {
     "ename": "ModuleNotFoundError",
     "evalue": "No module named 'feature_engineering'",
     "output_type": "error",
     "traceback": [
      "\u001b[31m---------------------------------------------------------------------------\u001b[39m",
      "\u001b[31mModuleNotFoundError\u001b[39m                       Traceback (most recent call last)",
      "\u001b[36mCell\u001b[39m\u001b[36m \u001b[39m\u001b[32mIn[4]\u001b[39m\u001b[32m, line 4\u001b[39m\n\u001b[32m      1\u001b[39m sys.path.append(os.path.abspath(\u001b[33m'\u001b[39m\u001b[33m../scripts\u001b[39m\u001b[33m'\u001b[39m))\n\u001b[32m      3\u001b[39m \u001b[38;5;28;01mimport\u001b[39;00m\u001b[38;5;250m \u001b[39m\u001b[34;01mpreprocess\u001b[39;00m\n\u001b[32m----> \u001b[39m\u001b[32m4\u001b[39m \u001b[38;5;28;01mimport\u001b[39;00m\u001b[38;5;250m \u001b[39m\u001b[34;01mfeature_engineering\u001b[39;00m\n\u001b[32m      5\u001b[39m \u001b[38;5;28;01mimport\u001b[39;00m\u001b[38;5;250m \u001b[39m\u001b[34;01mmodel_training\u001b[39;00m\n",
      "\u001b[31mModuleNotFoundError\u001b[39m: No module named 'feature_engineering'"
     ]
    }
   ],
   "source": [
    "sys.path.append(os.path.abspath('../scripts'))\n",
    "\n",
    "import preprocess\n",
    "import feature_engineering\n",
    "import model_training"
   ]
  },
  {
   "cell_type": "code",
   "execution_count": null,
   "id": "9c653ff5",
   "metadata": {},
   "outputs": [],
   "source": [
    "credit_df = preprocess.load_data('../data/creditcard.csv')\n",
    "credit_df = preprocess.clean_credit_card_data(credit_df)"
   ]
  },
  {
   "cell_type": "code",
   "execution_count": null,
   "id": "aa1ff523",
   "metadata": {},
   "outputs": [],
   "source": [
    "X_credit = credit_df.drop('Class', axis=1)\n",
    "y_credit = credit_df['Class']"
   ]
  },
  {
   "cell_type": "code",
   "execution_count": null,
   "id": "a8a9a50e",
   "metadata": {},
   "outputs": [],
   "source": [
    "X_credit_train, X_credit_test, y_credit_train, y_credit_test = model_training.split_data(X_credit, y_credit)\n"
   ]
  },
  {
   "cell_type": "code",
   "execution_count": null,
   "id": "127d7717",
   "metadata": {},
   "outputs": [],
   "source": [
    "scaler = StandardScaler()\n",
    "X_credit_train[['Time', 'Amount']] = scaler.fit_transform(X_credit_train[['Time', 'Amount']])\n",
    "X_credit_test[['Time', 'Amount']] = scaler.transform(X_credit_test[['Time', 'Amount']])"
   ]
  },
  {
   "cell_type": "code",
   "execution_count": null,
   "id": "9dff2179",
   "metadata": {},
   "outputs": [],
   "source": [
    "print(\"Class distribution before SMOTE:\", y_credit_train.value_counts())\n",
    "smote = SMOTE(random_state=42)\n",
    "X_credit_train_res, y_credit_train_res = smote.fit_resample(X_credit_train, y_credit_train)\n",
    "print(\"Class distribution after SMOTE:\", y_credit_train_res.value_counts())"
   ]
  },
  {
   "cell_type": "code",
   "execution_count": null,
   "id": "0b5cf845",
   "metadata": {},
   "outputs": [],
   "source": [
    "lr_credit_model = model_training.train_logistic_regression(X_credit_train_res, y_credit_train_res)\n",
    "lr_credit_metrics = model_training.evaluate_model(lr_credit_model, X_credit_test, y_credit_test, \"Logistic Regression (Credit Card)\")"
   ]
  },
  {
   "cell_type": "code",
   "execution_count": null,
   "id": "dd7824e5",
   "metadata": {},
   "outputs": [],
   "source": [
    "rf_credit_model = model_training.train_random_forest(X_credit_train_res, y_credit_train_res)\n",
    "rf_credit_metrics = model_training.evaluate_model(rf_credit_model, X_credit_test, y_credit_test, \"Random Forest (Credit Card)\")"
   ]
  },
  {
   "cell_type": "code",
   "execution_count": null,
   "id": "873d269d",
   "metadata": {},
   "outputs": [],
   "source": [
    "fraud_df = preprocess.load_data('../data/Fraud_Data.csv')\n",
    "fraud_df = preprocess.clean_fraud_data(fraud_df)"
   ]
  },
  {
   "cell_type": "code",
   "execution_count": null,
   "id": "627a066f",
   "metadata": {},
   "outputs": [],
   "source": [
    "fraud_df = feature_engineering.create_time_features(fraud_df)\n",
    "fraud_df = feature_engineering.time_since_signup(fraud_df)\n",
    "fraud_df = fraud_df.drop(['user_id', 'signup_time', 'purchase_time', 'device_id', 'ip_address'], axis=1)"
   ]
  },
  {
   "cell_type": "code",
   "execution_count": null,
   "id": "39c9f817",
   "metadata": {},
   "outputs": [],
   "source": [
    "X_fraud = fraud_df.drop('class', axis=1)\n",
    "y_fraud = fraud_df['class']"
   ]
  },
  {
   "cell_type": "code",
   "execution_count": null,
   "id": "437f83fd",
   "metadata": {},
   "outputs": [],
   "source": [
    "categorical_features = ['source', 'browser', 'sex']\n",
    "numerical_features = ['purchase_value', 'age', 'hour_of_day', 'day_of_week', 'time_since_signup']"
   ]
  },
  {
   "cell_type": "code",
   "execution_count": null,
   "id": "3a1c2823",
   "metadata": {},
   "outputs": [],
   "source": [
    "X_fraud_train, X_fraud_test, y_fraud_train, y_fraud_test = model_training.split_data(X_fraud, y_fraud)"
   ]
  },
  {
   "cell_type": "code",
   "execution_count": null,
   "id": "92d11c68",
   "metadata": {},
   "outputs": [],
   "source": [
    "preprocessor = ColumnTransformer(\n",
    "    transformers=[\n",
    "        ('num', StandardScaler(), numerical_features),\n",
    "        ('cat', OneHotEncoder(handle_unknown='ignore'), categorical_features)\n",
    "    ])\n"
   ]
  },
  {
   "cell_type": "code",
   "execution_count": null,
   "id": "10be9307",
   "metadata": {},
   "outputs": [],
   "source": [
    "lr_fraud_pipeline = ImbPipeline(steps=[\n",
    "    ('preprocessor', preprocessor),\n",
    "    ('smote', SMOTE(random_state=42)),\n",
    "    ('classifier', LogisticRegression(random_state=42, max_iter=1000))\n",
    "])\n",
    "lr_fraud_pipeline.fit(X_fraud_train, y_fraud_train)\n",
    "lr_fraud_metrics = model_training.evaluate_model(lr_fraud_pipeline, X_fraud_test, y_fraud_test, \"Logistic Regression (E-commerce)\")"
   ]
  },
  {
   "cell_type": "code",
   "execution_count": null,
   "id": "085e82f7",
   "metadata": {},
   "outputs": [],
   "source": [
    "rf_fraud_pipeline = ImbPipeline(steps=[\n",
    "    ('preprocessor', preprocessor),\n",
    "    ('smote', SMOTE(random_state=42)),\n",
    "    ('classifier', RandomForestClassifier(random_state=42, n_estimators=100, class_weight='balanced'))\n",
    "])\n",
    "rf_fraud_pipeline.fit(X_fraud_train, y_fraud_train)\n",
    "rf_fraud_metrics = model_training.evaluate_model(rf_fraud_pipeline, X_fraud_test, y_fraud_test, \"Random Forest (E-commerce)\")"
   ]
  },
  {
   "cell_type": "code",
   "execution_count": null,
   "id": "886012dd",
   "metadata": {},
   "outputs": [],
   "source": [
    "print(\"\\n--- Model Comparison ---\")\n",
    "print(\"\\nCredit Card Dataset:\")\n",
    "print(f\"Logistic Regression -> F1: {lr_credit_metrics['f1_score']:.4f}, AUC-PR: {lr_credit_metrics['auc_pr']:.4f}\")\n",
    "print(f\"Random Forest -> F1: {rf_credit_metrics['f1_score']:.4f}, AUC-PR: {rf_credit_metrics['auc_pr']:.4f}\")"
   ]
  },
  {
   "cell_type": "code",
   "execution_count": null,
   "id": "dfcca9c5",
   "metadata": {},
   "outputs": [],
   "source": [
    "print(\"\\nE-commerce Dataset:\")\n",
    "print(f\"Logistic Regression -> F1: {lr_fraud_metrics['f1_score']:.4f}, AUC-PR: {lr_fraud_metrics['auc_pr']:.4f}\")\n",
    "print(f\"Random Forest -> F1: {rf_fraud_metrics['f1_score']:.4f}, AUC-PR: {rf_fraud_metrics['auc_pr']:.4f}\")\n"
   ]
  },
  {
   "cell_type": "code",
   "execution_count": null,
   "id": "b5072e68",
   "metadata": {},
   "outputs": [],
   "source": []
  }
 ],
 "metadata": {
  "kernelspec": {
   "display_name": "venv",
   "language": "python",
   "name": "python3"
  },
  "language_info": {
   "codemirror_mode": {
    "name": "ipython",
    "version": 3
   },
   "file_extension": ".py",
   "mimetype": "text/x-python",
   "name": "python",
   "nbconvert_exporter": "python",
   "pygments_lexer": "ipython3",
   "version": "3.12.6"
  }
 },
 "nbformat": 4,
 "nbformat_minor": 5
}
